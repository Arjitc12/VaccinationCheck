{
  "nbformat": 4,
  "nbformat_minor": 0,
  "metadata": {
    "colab": {
      "name": "VaccinatedorNot.ipynb",
      "provenance": []
    },
    "kernelspec": {
      "name": "python3",
      "display_name": "Python 3"
    },
    "language_info": {
      "name": "python"
    }
  },
  "cells": [
    {
      "cell_type": "code",
      "metadata": {
        "colab": {
          "base_uri": "https://localhost:8080/"
        },
        "id": "sGaKunVhpG_H",
        "outputId": "c5583a1f-3c69-4d06-9c97-e351b2df2784"
      },
      "source": [
        "pip install mmh3"
      ],
      "execution_count": 1,
      "outputs": [
        {
          "output_type": "stream",
          "name": "stdout",
          "text": [
            "Collecting mmh3\n",
            "  Downloading mmh3-3.0.0-cp37-cp37m-manylinux2010_x86_64.whl (50 kB)\n",
            "\u001b[?25l\r\u001b[K     |██████▍                         | 10 kB 24.6 MB/s eta 0:00:01\r\u001b[K     |████████████▉                   | 20 kB 30.6 MB/s eta 0:00:01\r\u001b[K     |███████████████████▎            | 30 kB 31.8 MB/s eta 0:00:01\r\u001b[K     |█████████████████████████▊      | 40 kB 35.4 MB/s eta 0:00:01\r\u001b[K     |████████████████████████████████| 50 kB 6.0 MB/s \n",
            "\u001b[?25hInstalling collected packages: mmh3\n",
            "Successfully installed mmh3-3.0.0\n"
          ]
        }
      ]
    },
    {
      "cell_type": "code",
      "metadata": {
        "colab": {
          "base_uri": "https://localhost:8080/"
        },
        "id": "yGMZC9IxpJYC",
        "outputId": "f8b56fd4-46da-4ad5-e1f6-ecd85b5fb6a9"
      },
      "source": [
        "pip install bitarray"
      ],
      "execution_count": 2,
      "outputs": [
        {
          "output_type": "stream",
          "name": "stdout",
          "text": [
            "Collecting bitarray\n",
            "  Downloading bitarray-2.3.4.tar.gz (88 kB)\n",
            "\u001b[?25l\r\u001b[K     |███▊                            | 10 kB 22.6 MB/s eta 0:00:01\r\u001b[K     |███████▍                        | 20 kB 29.2 MB/s eta 0:00:01\r\u001b[K     |███████████▏                    | 30 kB 29.8 MB/s eta 0:00:01\r\u001b[K     |██████████████▉                 | 40 kB 25.2 MB/s eta 0:00:01\r\u001b[K     |██████████████████▋             | 51 kB 26.1 MB/s eta 0:00:01\r\u001b[K     |██████████████████████▎         | 61 kB 27.8 MB/s eta 0:00:01\r\u001b[K     |██████████████████████████      | 71 kB 24.5 MB/s eta 0:00:01\r\u001b[K     |█████████████████████████████▊  | 81 kB 25.9 MB/s eta 0:00:01\r\u001b[K     |████████████████████████████████| 88 kB 5.8 MB/s \n",
            "\u001b[?25hBuilding wheels for collected packages: bitarray\n",
            "  Building wheel for bitarray (setup.py) ... \u001b[?25l\u001b[?25hdone\n",
            "  Created wheel for bitarray: filename=bitarray-2.3.4-cp37-cp37m-linux_x86_64.whl size=171944 sha256=111bee4d90c5cdb43c14727f6d4abef722c5b0bac24d38e6bcb2ca05f5ec8baa\n",
            "  Stored in directory: /root/.cache/pip/wheels/84/cc/5b/0e861bdb5294d22d2d4f595df936f964a95258387e11494d41\n",
            "Successfully built bitarray\n",
            "Installing collected packages: bitarray\n",
            "Successfully installed bitarray-2.3.4\n"
          ]
        }
      ]
    },
    {
      "cell_type": "markdown",
      "metadata": {
        "id": "qS07dGkvpBWf"
      },
      "source": [
        "##BloomFilter"
      ]
    },
    {
      "cell_type": "code",
      "metadata": {
        "id": "oVMhza8Xo7eF"
      },
      "source": [
        "import math\n",
        "import mmh3\n",
        "from bitarray import bitarray\n",
        "\n",
        "\n",
        "class BloomFilter(object):\n",
        "\n",
        "\t'''\n",
        "\tClass for Bloom filter, using murmur3 hash function\n",
        "\t'''\n",
        "\n",
        "\tdef __init__(self, items_count, fp_prob):\n",
        "\t\t'''\n",
        "\t\titems_count : int\n",
        "\t\t\tNumber of items expected to be stored in bloom filter\n",
        "\t\tfp_prob : float\n",
        "\t\t\tFalse Positive probability in decimal\n",
        "\t\t'''\n",
        "\t\t# False possible probability in decimal\n",
        "\t\tself.fp_prob = fp_prob\n",
        "\n",
        "\t\t# Size of bit array to use\n",
        "\t\tself.size = self.get_size(items_count, fp_prob)\n",
        "\n",
        "\t\t# number of hash functions to use\n",
        "\t\tself.hash_count = self.get_hash_count(self.size, items_count)\n",
        "\n",
        "\t\t# Bit array of given size\n",
        "\t\tself.bit_array = bitarray(self.size)\n",
        "\n",
        "\t\t# initialize all bits as 0\n",
        "\t\tself.bit_array.setall(0)\n",
        "\n",
        "\tdef add(self, item):\n",
        "\t\t'''\n",
        "\t\tAdd an item in the filter\n",
        "\t\t'''\n",
        "\t\tdigests = []\n",
        "\t\tfor i in range(self.hash_count):\n",
        "\n",
        "\t\t\t# create digest for given item.\n",
        "\t\t\t# i work as seed to mmh3.hash() function\n",
        "\t\t\t# With different seed, digest created is different\n",
        "\t\t\tdigest = mmh3.hash(item, i) % self.size\n",
        "\t\t\tdigests.append(digest)\n",
        "\n",
        "\t\t\t# set the bit True in bit_array\n",
        "\t\t\tself.bit_array[digest] = True\n",
        "\n",
        "\tdef check(self, item):\n",
        "\t\t'''\n",
        "\t\tCheck for existence of an item in filter\n",
        "\t\t'''\n",
        "\t\tfor i in range(self.hash_count):\n",
        "\t\t\tdigest = mmh3.hash(item, i) % self.size\n",
        "\t\t\tif self.bit_array[digest] == False:\n",
        "\t\t\t\t'''\n",
        "\t\t\t\t if any of bit is False then,its not present\n",
        "\t\t\t\t in filter\n",
        "\t\t\t\t else there is probability that it exist\n",
        "\t\t\t\t'''\n",
        "\t\t\t\treturn False\n",
        "\t\treturn True\n",
        "\n",
        "\t@classmethod\n",
        "\tdef get_size(self, n, p):\n",
        "\t\t'''\n",
        "\t\tReturn the size of bit array(m) to used using\n",
        "\t\tfollowing formula\n",
        "\t\tm = -(n * lg(p)) / (lg(2)^2)\n",
        "\t\tn : int\n",
        "\t\t\tnumber of items expected to be stored in filter\n",
        "\t\tp : float\n",
        "\t\t\tFalse Positive probability in decimal\n",
        "\t\t'''\n",
        "\t\tm = -(n * math.log(p))/(math.log(2)**2)\n",
        "\t\treturn int(m)\n",
        "\n",
        "\t@classmethod\n",
        "\tdef get_hash_count(self, m, n):\n",
        "\t\t'''\n",
        "\t\tReturn the hash function(k) to be used using\n",
        "\t\tfollowing formula\n",
        "\t\tk = (m/n) * lg(2)\n",
        "\n",
        "\t\tm : int\n",
        "\t\t\tsize of bit array\n",
        "\t\tn : int\n",
        "\t\t\tnumber of items expected to be stored in filter\n",
        "\t\t'''\n",
        "\t\tk = (m/n) * math.log(2)\n",
        "\t\treturn int(k)\n"
      ],
      "execution_count": 3,
      "outputs": []
    },
    {
      "cell_type": "markdown",
      "metadata": {
        "id": "tF2n8Os2pjiv"
      },
      "source": [
        "Is Vacinated or not"
      ]
    },
    {
      "cell_type": "code",
      "metadata": {
        "colab": {
          "base_uri": "https://localhost:8080/"
        },
        "id": "vrXf6iUGo6FT",
        "outputId": "10a0bc50-df9f-41fa-a1ec-095835eedb0f"
      },
      "source": [
        "from random import shuffle\n",
        "\n",
        "\n",
        "n = 45 #no of items to add\n",
        "p = 0.01 #false positive probability\n",
        "\n",
        "bl = BloomFilter(n,p)\n",
        "print(\"Size of bit array: \",bl.size)\n",
        "print(\"False positive Probability: \", bl.fp_prob)\n",
        "print(\"Number of hash functions: \", bl.hash_count)\n",
        "\n",
        "# words to be added\n",
        "Vaccinated = ['Aditi','Musunur','Advitiya ','Sujeet','Alagesan','Poduri','Amrish ','Ilyas',\t\n",
        "                'Aprativirya ','Seshan','Asvathama ','Ponnada','Avantas ','Ghosal','Avidosa','Vaisakhi',\n",
        "                'Barsati ','Sandipa','Debasis ','Sundhararajan','Devasru ','Subramanyan',\n",
        "                'Dharmadhrt',' Ramila','Dhritiman ','Salim','Gopa ','Trilochana','Hardeep','Suksma',\n",
        "                'Jayadev ','Mitali','Jitendra ','Choudhary','Kalyanavata','Veerender',\n",
        "                'Naveen',' Tikaram','Vijai ','Sritharan']\n",
        "\n",
        "# word not added\n",
        "Not_Vaccinated = ['Abdullah','Tamara', 'Abdul','Maya','Jai','Tara', 'Rohan', 'Ana'\n",
        "                   'Ajay', 'Aisha', 'Ram','Alisha','Sanjay', 'Anya', 'Ravi', 'Lila','Arman'\n",
        "\t\t\t\t\t\t\t\t\t  ,'Amit','Fatima','Sandeep',' Anika',' Vijay','Anita','Rahul','Trisha',\n",
        "\t\t\t\t\t\t\t\t\t\t'Ira',' Aryan',' Ibrahim',' Anjali',' Ashwin',' Jasmin',' Kiran',' Priya','Krish',\n",
        "\t\t\t\t\t\t\t\t\t\t'Asha','Arjun','Isha','Rajesh',\n",
        "\t\t\t\t\t\t\t\t\t\t'Riya','Dev',' Mira','Deepak','Shyla','Arun','Mara','Anand']\n",
        "\n",
        "for i in Vaccinated:\n",
        "\tbl.add(i)\n",
        "\n",
        "shuffle(Vaccinated)\n",
        "shuffle(Not_Vaccinated)\n",
        "\n",
        "ToBeTested = Vaccinated[:36] + Not_Vaccinated[:9]\n",
        "shuffle(ToBeTested)\n",
        "\n",
        "for i in ToBeTested:\n",
        "\tif bl.check(i):\n",
        "\t\tif i in Vaccinated:\n",
        "\t\t\tprint(i,\" is probably Vaccinated\")\n",
        "\t\telse:\n",
        "\t\t\tprint(i,\" is NOT Vaccinated but is found to be Vaccinated Falsely(False Positive)\")\n",
        "\telse:\n",
        "\t\tprint(i,\" is definitely not Vaccinated!\")\n"
      ],
      "execution_count": 6,
      "outputs": [
        {
          "output_type": "stream",
          "name": "stdout",
          "text": [
            "Size of bit array:  431\n",
            "False positive Probability:  0.01\n",
            "Number of hash functions:  6\n",
            " Ramila  is probably Vaccinated\n",
            "Ponnada  is probably Vaccinated\n",
            "Aditi  is probably Vaccinated\n",
            "Ghosal  is probably Vaccinated\n",
            "Dharmadhrt  is probably Vaccinated\n",
            "Barsati   is probably Vaccinated\n",
            "Advitiya   is probably Vaccinated\n",
            " Mira  is definitely not Vaccinated!\n",
            "Jitendra   is probably Vaccinated\n",
            "Subramanyan  is probably Vaccinated\n",
            "Vijai   is probably Vaccinated\n",
            "Dhritiman   is probably Vaccinated\n",
            "Avantas   is probably Vaccinated\n",
            "Amrish   is probably Vaccinated\n",
            "Vaisakhi  is probably Vaccinated\n",
            "Asvathama   is probably Vaccinated\n",
            "Alagesan  is probably Vaccinated\n",
            "Mitali  is probably Vaccinated\n",
            " Anika  is definitely not Vaccinated!\n",
            "Devasru   is probably Vaccinated\n",
            "Riya  is definitely not Vaccinated!\n",
            "Sandipa  is probably Vaccinated\n",
            "Hardeep  is probably Vaccinated\n",
            "Choudhary  is probably Vaccinated\n",
            " Tikaram  is probably Vaccinated\n",
            "Poduri  is probably Vaccinated\n",
            "Ilyas  is probably Vaccinated\n",
            "Rajesh  is definitely not Vaccinated!\n",
            "Asha  is NOT Vaccinated but is found to be Vaccinated Falsely(False Positive)\n",
            "Trilochana  is probably Vaccinated\n",
            "Sundhararajan  is probably Vaccinated\n",
            "Naveen  is probably Vaccinated\n",
            "Aisha  is definitely not Vaccinated!\n",
            "Abdullah  is definitely not Vaccinated!\n",
            "Gopa   is probably Vaccinated\n",
            "Debasis   is probably Vaccinated\n",
            "Avidosa  is probably Vaccinated\n",
            "Salim  is probably Vaccinated\n",
            "Sandeep  is definitely not Vaccinated!\n",
            "Jayadev   is probably Vaccinated\n",
            " Aryan  is definitely not Vaccinated!\n",
            "Kalyanavata  is probably Vaccinated\n",
            "Veerender  is probably Vaccinated\n",
            "Aprativirya   is probably Vaccinated\n",
            "Sritharan  is probably Vaccinated\n"
          ]
        }
      ]
    },
    {
      "cell_type": "code",
      "metadata": {
        "id": "HZAlrFMLpTDT"
      },
      "source": [
        ""
      ],
      "execution_count": null,
      "outputs": []
    }
  ]
}